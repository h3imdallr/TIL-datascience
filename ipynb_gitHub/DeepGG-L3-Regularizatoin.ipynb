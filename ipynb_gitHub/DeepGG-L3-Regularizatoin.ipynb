{
 "cells": [
  {
   "cell_type": "markdown",
   "metadata": {
    "collapsed": true
   },
   "source": [
    "# Lecture Summary\n",
    "\n",
    "## Wider vs Deeper\n",
    " \n",
    "DeepNetwork에서 hidden layer의 사이즈를 넓힐 것이냐, Layer 깊이를 깊게 할 것이냐의 이슈가 있음. 그러나 parameter 복잡도나, feature 가 생기는 단계의 직관적 측면에서 deep 하게 layer를 가져가는게 나음\n",
    "![deep](images/L3-deep-a.png)\n",
    "![deep](images/L3-deep-b.png)\n",
    "\n",
    "## Regularization\n",
    "\n",
    "Deep Network는 굉장히 overfitting이 쉽게 일어나서, regularization이 반드시 필요.  \n",
    "![deep](images/L3-Reg-a.png)\n",
    "### (a) L2 Regularization\n",
    "아래와 같이 일반적으로 L2 regularization 을 사용\n",
    "![deep](images/L3-Reg-b.png)\n",
    "regularization term이 미분하면 w가 되는 특성을 가짐\n",
    "![deep](images/L3-Reg-bb.png)\n",
    "\n",
    "스키니 진과 같은 역할\n",
    "![deep](images/L3-Reg-c.png)\n",
    "\n",
    "### (b) Dropout\n",
    "\n",
    "랜덤하게 결과 일부를 누락시켜서 평균을 이용하는 방법인데, 정확히 효과나 원리는 잘 모르겠음.\n",
    "\n",
    "![dropout](images/L3-reg-drop-a.png)\n",
    "![dropout](images/L3-reg-drop-b.png)\n",
    "![dropout](images/L3-reg-drop-c.png)"
   ]
  },
  {
   "cell_type": "markdown",
   "metadata": {
    "collapsed": true
   },
   "source": [
    "---\n",
    "# Assignment 3\n",
    "\n",
    "regularization에 대해서 진행하도록 하겠다."
   ]
  },
  {
   "cell_type": "code",
   "execution_count": 1,
   "metadata": {
    "collapsed": false
   },
   "outputs": [
    {
     "name": "stderr",
     "output_type": "stream",
     "text": [
      "/Users/Josh/anaconda/lib/python2.7/site-packages/matplotlib/font_manager.py:273: UserWarning: Matplotlib is building the font cache using fc-list. This may take a moment.\n",
      "  warnings.warn('Matplotlib is building the font cache using fc-list. This may take a moment.')\n"
     ]
    }
   ],
   "source": [
    "# These are all the modules we'll be using later. Make sure you can import them\n",
    "# before proceeding further.\n",
    "from __future__ import print_function\n",
    "import numpy as np\n",
    "import tensorflow as tf\n",
    "from six.moves import cPickle as pickle\n",
    "\n",
    "import matplotlib.pyplot as plt\n",
    "%matplotlib inline"
   ]
  },
  {
   "cell_type": "code",
   "execution_count": 2,
   "metadata": {
    "collapsed": false
   },
   "outputs": [
    {
     "name": "stdout",
     "output_type": "stream",
     "text": [
      "Training set (200000, 28, 28) (200000,)\n",
      "Validation set (10000, 28, 28) (10000,)\n",
      "Test set (10000, 28, 28) (10000,)\n"
     ]
    }
   ],
   "source": [
    "pickle_file = 'notMNIST.pickle'\n",
    "\n",
    "with open(pickle_file, 'rb') as  f:\n",
    "    save = pickle.load(f)\n",
    "    train_dataset = save['train_dataset']\n",
    "    train_labels = save['train_labels']\n",
    "    valid_dataset = save['valid_dataset']\n",
    "    valid_labels = save['valid_labels']\n",
    "    test_dataset = save['test_dataset']\n",
    "    test_labels = save['test_labels']\n",
    "    del save # hint to help gc free up memory\n",
    "    print ('Training set', train_dataset.shape, train_labels.shape)\n",
    "    print ('Validation set', valid_dataset.shape, valid_labels.shape)\n",
    "    print ('Test set', test_dataset.shape, test_labels.shape)"
   ]
  },
  {
   "cell_type": "markdown",
   "metadata": {},
   "source": [
    "Reformat into a shape that's more adapted to the models we're going to trian:\n",
    "- data as a flat matrix\n",
    "- labels as float 1-hot encodings"
   ]
  },
  {
   "cell_type": "code",
   "execution_count": 3,
   "metadata": {
    "collapsed": false
   },
   "outputs": [
    {
     "name": "stdout",
     "output_type": "stream",
     "text": [
      "Training set (200000, 784) (200000, 10)\n",
      "Validataion set (10000, 784) (10000, 10)\n",
      "Test set (10000, 784) (10000, 10)\n"
     ]
    }
   ],
   "source": [
    "image_size = 28\n",
    "num_labels = 10\n",
    "\n",
    "def reformat (dataset, labels):\n",
    "    dataset = dataset.reshape((-1, image_size * image_size )).astype(np.float32)\n",
    "    # 1-hot encoding (e.g. Map 2 to [0.0, 1.0, 0.0 ...], 3 to [0.0, 0.0, 1.0 ...])\n",
    "    labels = (np.arange(num_labels) == labels[:, None]).astype(np.float32)\n",
    "    return dataset, labels\n",
    "\n",
    "train_dataset, train_labels = reformat(train_dataset, train_labels)\n",
    "valid_dataset, valid_labels = reformat(valid_dataset, valid_labels)\n",
    "test_dataset, test_labels = reformat(test_dataset, test_labels)\n",
    "\n",
    "print ('Training set', train_dataset.shape, train_labels.shape)\n",
    "print ('Validataion set', valid_dataset.shape, valid_labels.shape)\n",
    "print ('Test set', test_dataset.shape, test_labels.shape)"
   ]
  },
  {
   "cell_type": "code",
   "execution_count": 4,
   "metadata": {
    "collapsed": true
   },
   "outputs": [],
   "source": [
    "def accuracy(predictions, labels):\n",
    "    return (100.0 * np.sum(np.argmax(predictions, 1) == np.argmax(labels,1))/predictions.shape[0] )"
   ]
  },
  {
   "cell_type": "markdown",
   "metadata": {},
   "source": [
    "# Problem 1"
   ]
  },
  {
   "cell_type": "markdown",
   "metadata": {},
   "source": [
    "Introduce and tune L2 regularization for both logistic and neural network models. Remember that L2 amounts to adding a penalty on the norm of the weights to the loss. In TensorFlow, you can compue the L2 loss for a tensor t using nn.l2_loss(t). The right amount of regularization should improve your validation / test accuracy.\n",
    "\n",
    "[Reference](https://github.com/Arn-O/udacity-deep-learning/blob/master/3_regularization.ipynb)"
   ]
  },
  {
   "cell_type": "markdown",
   "metadata": {},
   "source": [
    "## Logistic Regression with L2 Loss Function\n",
    "\n",
    "conrtucting graph:"
   ]
  },
  {
   "cell_type": "code",
   "execution_count": 5,
   "metadata": {
    "collapsed": false
   },
   "outputs": [],
   "source": [
    "batch_size = 128\n",
    "\n",
    "graph  = tf.Graph()\n",
    "\n",
    "with graph.as_default():\n",
    "    # Input data\n",
    "    # For the training data, use placeholder that will be fed at run time with a training minibatch. \n",
    "    tf_train_dataset = tf.placeholder(tf.float32, shape =(batch_size, image_size * image_size) )\n",
    "    tf_train_labels = tf.placeholder(tf.float32, shape =(batch_size, num_labels))\n",
    "    tf_valid_dataset = tf.constant(valid_dataset)\n",
    "    tf_test_dataset = tf.constant(test_dataset)\n",
    "    beta_regul = tf.placeholder(tf.float32)\n",
    "    \n",
    "    # Variables\n",
    "    weights = tf.Variable(tf.truncated_normal([image_size * image_size, num_labels]))\n",
    "    biases = tf.Variable(tf.zeros([num_labels]))\n",
    "    \n",
    "    # Training computation \n",
    "    # Regularization applied !!\n",
    "    logits = tf.matmul(tf_train_dataset, weights) + biases\n",
    "    loss = tf.reduce_mean(tf.nn.softmax_cross_entropy_with_logits(logits, tf_train_labels)) + \\\n",
    "    beta_regul * tf.nn.l2_loss(weights)\n",
    "    \n",
    "    #Optimizer\n",
    "    optimizer = tf.train.GradientDescentOptimizer(.5).minimize(loss)\n",
    "    \n",
    "    #predictions for the training, validation and test data.\n",
    "    train_prediction = tf.nn.softmax(logits)\n",
    "    valid_prediction = tf.nn.softmax(tf.matmul(tf_valid_dataset, weights) + biases)\n",
    "    test_prediction = tf.nn.softmax(tf.matmul(tf_test_dataset, weights) + biases)"
   ]
  },
  {
   "cell_type": "markdown",
   "metadata": {},
   "source": [
    "Executing: "
   ]
  },
  {
   "cell_type": "code",
   "execution_count": 6,
   "metadata": {
    "collapsed": false
   },
   "outputs": [
    {
     "name": "stdout",
     "output_type": "stream",
     "text": [
      "Initialized.\n",
      "===  MiniBatch Loss at step 0: 24.382122\n",
      "MiniBatch Accuracy: 1.6%\n",
      "Validation Accuracy: 15.4%\n",
      "===  MiniBatch Loss at step 500: 2.055788\n",
      "MiniBatch Accuracy: 96.9%\n",
      "Validation Accuracy: 21.1%\n",
      "===  MiniBatch Loss at step 1000: 1.252757\n",
      "MiniBatch Accuracy: 96.1%\n",
      "Validation Accuracy: 17.8%\n",
      "===  MiniBatch Loss at step 1500: 0.783893\n",
      "MiniBatch Accuracy: 96.9%\n",
      "Validation Accuracy: 14.5%\n",
      "===  MiniBatch Loss at step 2000: 0.521353\n",
      "MiniBatch Accuracy: 97.7%\n",
      "Validation Accuracy: 14.8%\n",
      "===  MiniBatch Loss at step 2500: 1.115992\n",
      "MiniBatch Accuracy: 91.4%\n",
      "Validation Accuracy: 15.1%\n",
      "===  MiniBatch Loss at step 3000: 0.642860\n",
      "MiniBatch Accuracy: 93.8%\n",
      "Validation Accuracy: 13.6%\n",
      "Test Accuracy: 14.2%\n"
     ]
    }
   ],
   "source": [
    "num_steps = 3001\n",
    "\n",
    "with tf.Session(graph = graph ) as sess:\n",
    "    tf.initialize_all_variables().run()\n",
    "    print(\"Initialized.\")\n",
    "    for step in range(num_steps):\n",
    "        # Pick an offset within the training data, which has been randomnized.\n",
    "        # Note: we could use better randomnized across epochs.\n",
    "        offset = (step * batch_size) % (train_labels.shape[0] - batch_size)\n",
    "        \n",
    "        # Generate a minibatch.\n",
    "        batch_data = train_dataset[offset:(offset + batch_size), :]\n",
    "        batch_labels = train_labels[offset:(offset + batch_size), :]\n",
    "        \n",
    "        # prepare a dic telling the session where to feed the minibatch\n",
    "        # the key of the dictionary : the placeholder node of the graph to be fed, \n",
    "        # the value : numpy array to feed to it\n",
    "        feed_dict = {tf_train_dataset: batch_data, tf_train_labels: batch_labels, beta_regul: 1e-3}\n",
    "        _, l, predictions = sess.run([optimizer, loss, train_prediction], feed_dict = feed_dict)\n",
    "\n",
    "        if (step % 500 == 0 ):\n",
    "            print (\"===  MiniBatch Loss at step %d: %f\" % (step, l) )\n",
    "            print (\"MiniBatch Accuracy: %.1f%%\" % accuracy(predictions, batch_labels))\n",
    "            print (\"Validation Accuracy: %.1f%%\" % accuracy(valid_prediction.eval(), valid_labels) )\n",
    "\n",
    "    print (\"Test Accuracy: %.1f%%\" % accuracy(test_prediction.eval(), test_labels) )       "
   ]
  },
  {
   "cell_type": "markdown",
   "metadata": {},
   "source": [
    ": **Finding Best regularization Value **"
   ]
  },
  {
   "cell_type": "code",
   "execution_count": 7,
   "metadata": {
    "collapsed": false
   },
   "outputs": [],
   "source": [
    "num_steps = 3001\n",
    "regul_val = [pow(10,i) for i in np.arange(-4,-2,.1)]\n",
    "accuracy_val = []\n",
    "\n",
    "for regul in regul_val: \n",
    "    with tf.Session(graph = graph) as sess:\n",
    "        tf.initialize_all_variables().run()\n",
    "        for step in range(num_steps):\n",
    "            # pick an offset within training data, which has been randomnized\n",
    "            # Note: we could use better randomnized across epochs\n",
    "            offset = (step * batch_size) % (train_labels.shape[0] - batch_size)\n",
    "            \n",
    "            # Generate a minibatch\n",
    "            batch_data = train_dataset[offset:(offset + batch_size), : ]\n",
    "            batch_labels = train_labels[offset:(offset + batch_size), : ]\n",
    "            \n",
    "            #prepare feed_dict\n",
    "            feed_dict = {tf_train_dataset: batch_data, tf_train_labels: batch_labels, beta_regul: regul}\n",
    "            _, l, predictions = sess.run([optimizer, loss, train_prediction], feed_dict = feed_dict)\n",
    "        \n",
    "        accuracy_val.append(accuracy(test_prediction.eval(), test_labels))"
   ]
  },
  {
   "cell_type": "code",
   "execution_count": 8,
   "metadata": {
    "collapsed": false
   },
   "outputs": [
    {
     "name": "stdout",
     "output_type": "stream",
     "text": [
      "(20,) (20,)\n"
     ]
    },
    {
     "data": {
      "image/png": "[encoded data removed]",
      "text/plain": [
       "<matplotlib.figure.Figure at 0x117b77b10>"
      ]
     },
     "metadata": {},
     "output_type": "display_data"
    }
   ],
   "source": [
    "print (np.shape(regul_val), np.shape(accuracy_val))\n",
    "\n",
    "plt.semilogx(regul_val, accuracy_val)\n",
    "plt.grid(True); plt.title(\"Test Accuracy by regularization\"); plt.show()"
   ]
  },
  {
   "cell_type": "markdown",
   "metadata": {},
   "source": [
    "## 1-layer Neural Network with L2 Regualrization"
   ]
  },
  {
   "cell_type": "markdown",
   "metadata": {},
   "source": [
    "** :Contruct **"
   ]
  },
  {
   "cell_type": "code",
   "execution_count": 9,
   "metadata": {
    "collapsed": false
   },
   "outputs": [],
   "source": [
    "batch_size = 128\n",
    "num_hidden_nodes = 1024\n",
    "\n",
    "graph = tf.Graph()\n",
    "\n",
    "with graph.as_default():\n",
    "    # Input data (Constants, Placeholder)\n",
    "    tf_train_dataset = tf.placeholder(tf.float32, shape = (batch_size, image_size * image_size))\n",
    "    tf_train_labels = tf.placeholder(tf.float32, shape=(batch_size, num_labels))\n",
    "    tf_valid_dataset =tf.constant(valid_dataset)\n",
    "    tf_test_dataset = tf.constant(test_dataset)\n",
    "    \n",
    "    beta_regul = tf.placeholder(tf.float32)\n",
    "    \n",
    "    # Variables\n",
    "    weights1 = tf.Variable(tf.truncated_normal([image_size * image_size, num_hidden_nodes]))\n",
    "    biases1= tf.Variable(tf.zeros([num_hidden_nodes]))\n",
    "    weights2 = tf.Variable(tf.truncated_normal([num_hidden_nodes, num_labels]))\n",
    "    biases2 = tf.Variable(tf.zeros([num_labels]))\n",
    "    \n",
    "    # Training Computation\n",
    "    layer1_train = tf.nn.relu(tf.matmul(tf_train_dataset, weights1) + biases1)\n",
    "    logits = tf.matmul(layer1_train, weights2) + biases2\n",
    "    \n",
    "    loss = tf.reduce_mean(\n",
    "                tf.nn.softmax_cross_entropy_with_logits(logits, tf_train_labels)) +\\\n",
    "                beta_regul * (tf.nn.l2_loss(weights1) + tf.nn.l2_loss(weights2))\n",
    "    \n",
    "    # Optimizer\n",
    "    optimizer = tf.train.GradientDescentOptimizer(0.5).minimize(loss)\n",
    "    \n",
    "    # Predictions for the training, validation, and test data\n",
    "    train_prediction = tf.nn.softmax(logits)\n",
    "\n",
    "    layer1_valid = tf.nn.relu(tf.matmul(tf_valid_dataset, weights1) + biases1)\n",
    "    valid_prediction = tf.nn.softmax(tf.matmul(layer1_valid, weights2) + biases2)\n",
    "    \n",
    "    layer1_test = tf.nn.relu(tf.matmul(tf_test_dataset, weights1) + biases1)\n",
    "    test_prediction = tf.nn.softmax(tf.matmul(layer1_test, weights2) + biases2)    "
   ]
  },
  {
   "cell_type": "markdown",
   "metadata": {},
   "source": [
    "** : Execute **"
   ]
  },
  {
   "cell_type": "code",
   "execution_count": 10,
   "metadata": {
    "collapsed": false
   },
   "outputs": [],
   "source": [
    "if False: \n",
    "    print (train_labels.shape[0] - batch_size)\n",
    "    print ((128 * 2000) % (train_labels.shape[0] - batch_size))"
   ]
  },
  {
   "cell_type": "code",
   "execution_count": 11,
   "metadata": {
    "collapsed": false
   },
   "outputs": [
    {
     "name": "stdout",
     "output_type": "stream",
     "text": [
      "Initialized\n",
      "==MiniBatch loss at step 0: 1.000000\n",
      "MiniBatch Accuracy: 18.0%\n",
      "Validation Accuracy: 10.0%\n",
      "==MiniBatch loss at step 500: 1.000000\n",
      "MiniBatch Accuracy: 100.0%\n",
      "Validation Accuracy: 12.0%\n",
      "==MiniBatch loss at step 1000: 1.000000\n",
      "MiniBatch Accuracy: 99.2%\n",
      "Validation Accuracy: 19.1%\n",
      "==MiniBatch loss at step 1500: 1.000000\n",
      "MiniBatch Accuracy: 100.0%\n",
      "Validation Accuracy: 10.1%\n",
      "==MiniBatch loss at step 2000: 1.000000\n",
      "MiniBatch Accuracy: 100.0%\n",
      "Validation Accuracy: 16.2%\n",
      "==MiniBatch loss at step 2500: 1.000000\n",
      "MiniBatch Accuracy: 90.6%\n",
      "Validation Accuracy: 26.9%\n",
      "==MiniBatch loss at step 3000: 1.000000\n",
      "MiniBatch Accuracy: 100.0%\n",
      "Validation Accuracy: 18.7%\n",
      "Test Accuracy: 19.8%\n"
     ]
    }
   ],
   "source": [
    "num_steps =3001\n",
    "\n",
    "with tf.Session(graph = graph) as sess:\n",
    "    tf.initialize_all_variables().run(); print (\"Initialized\")\n",
    "    for step in range(num_steps):\n",
    "        # pick an offset within the training data, which has been randomnized\n",
    "        # Note: we could use better randomnization across epochs\n",
    "        offset = (step * batch_size) % (train_labels.shape[0] - batch_size)\n",
    "        \n",
    "        # Generate a minibatch \n",
    "        batch_data = train_dataset[offset: (offset+ batch_size), :]\n",
    "        batch_labels = train_labels[offset: (offset+ batch_size), :]\n",
    "        \n",
    "        # Prepare feed_dict\n",
    "        feed_dict = {tf_train_dataset: batch_data, tf_train_labels: batch_labels, beta_regul: 1e-3}\n",
    "        _, l, predictions = sess.run([optimizer, loss, train_prediction], feed_dict = feed_dict)\n",
    "        if (step % 500 ==0 ):\n",
    "            print (\"==MiniBatch loss at step %d: %f\" %(step, 1))\n",
    "            print (\"MiniBatch Accuracy: %.1f%%\" % accuracy(predictions, batch_labels))\n",
    "            print (\"Validation Accuracy: %.1f%%\" % accuracy(valid_prediction.eval(), valid_labels))\n",
    "    print (\"Test Accuracy: %.1f%%\" % accuracy(test_prediction.eval(), test_labels))\n",
    "    "
   ]
  },
  {
   "cell_type": "markdown",
   "metadata": {},
   "source": [
    "# Problem 2\n",
    "\n",
    "Let's demonstrate an extreme case of overfitting.  \n",
    "Restrict your training data to just a few batches. What happens?"
   ]
  },
  {
   "cell_type": "code",
   "execution_count": 12,
   "metadata": {
    "collapsed": false
   },
   "outputs": [],
   "source": [
    "batch_size = 128\n",
    "num_hidden_nodes = 1024\n",
    "\n",
    "graph = tf.Graph()\n",
    "with graph.as_default():\n",
    "    # Input data. For the training data, we use a placeholder that will be fed\n",
    "    # at run time with a training minibatch.\n",
    "    tf_train_dataset = tf.placeholder(tf.float32,shape=(batch_size, image_size * image_size))\n",
    "    tf_train_labels = tf.placeholder(tf.float32, shape=(batch_size, num_labels))\n",
    "    tf_valid_dataset = tf.constant(valid_dataset)\n",
    "    tf_test_dataset = tf.constant(test_dataset)\n",
    "\n",
    "    beta_regul = tf.placeholder(tf.float32)\n",
    "\n",
    "    # Variables.\n",
    "    weights1 = tf.Variable(tf.truncated_normal([image_size * image_size, num_hidden_nodes]))\n",
    "    biases1 = tf.Variable(tf.zeros([num_hidden_nodes]))\n",
    "    weights2 = tf.Variable(tf.truncated_normal([num_hidden_nodes, num_labels]))\n",
    "    biases2 = tf.Variable(tf.zeros([num_labels]))\n",
    "\n",
    "    # Training computation.\n",
    "    lay1_train = tf.nn.relu(tf.matmul(tf_train_dataset, weights1) + biases1)\n",
    "    logits = tf.matmul(lay1_train, weights2) + biases2\n",
    "    loss = tf.reduce_mean( tf.nn.softmax_cross_entropy_with_logits(logits, tf_train_labels))\n",
    "\n",
    "    # Optimizer.\n",
    "    optimizer = tf.train.GradientDescentOptimizer(0.5).minimize(loss)\n",
    "  \n",
    "    # Predictions for the training, validation, and test data.\n",
    "    train_prediction = tf.nn.softmax(logits)\n",
    "    layer1_valid = tf.nn.relu(tf.matmul(tf_valid_dataset, weights1) + biases1)\n",
    "    valid_prediction = tf.nn.softmax(tf.matmul(layer1_valid, weights2) + biases2)\n",
    "    layer1_test = tf.nn.relu(tf.matmul(tf_test_dataset, weights1) + biases1)\n",
    "    test_prediction = tf.nn.softmax(tf.matmul(layer1_test, weights2) + biases2)"
   ]
  },
  {
   "cell_type": "code",
   "execution_count": 13,
   "metadata": {
    "collapsed": false
   },
   "outputs": [
    {
     "name": "stdout",
     "output_type": "stream",
     "text": [
      "Initialized\n",
      "Minibatch loss at step 0: 544.388062\n",
      "Minibatch accuracy: 0.0%\n",
      "Validation accuracy: 10.0%\n",
      "Minibatch loss at step 2: 0.000000\n",
      "Minibatch accuracy: 100.0%\n",
      "Validation accuracy: 10.0%\n",
      "Minibatch loss at step 4: 0.000000\n",
      "Minibatch accuracy: 100.0%\n",
      "Validation accuracy: 10.0%\n",
      "Minibatch loss at step 6: 0.000000\n",
      "Minibatch accuracy: 100.0%\n",
      "Validation accuracy: 10.0%\n",
      "Minibatch loss at step 8: 0.000000\n",
      "Minibatch accuracy: 100.0%\n",
      "Validation accuracy: 10.0%\n",
      "Minibatch loss at step 10: 0.000000\n",
      "Minibatch accuracy: 100.0%\n",
      "Validation accuracy: 10.0%\n",
      "Test accuracy: 10.0%\n"
     ]
    }
   ],
   "source": [
    "num_steps = 11\n",
    "with tf.Session(graph  = graph) as sess:\n",
    "    tf.initialize_all_variables().run(); print(\"Initialized\")\n",
    "    for step in range(num_steps):\n",
    "        # Offset\n",
    "        offset = (step * batch_size) % (train_labels.shape[0] - batch_size)\n",
    "        \n",
    "        # Generate a minibatch\n",
    "        batch_data = train_dataset[offset:(offset + batch_size), :]\n",
    "        batch_labels = train_labels[offset:(offset + batch_size), :]\n",
    "        \n",
    "        #feed_dict\n",
    "        feed_dict = {tf_train_dataset: batch_data, tf_train_labels: batch_labels, beta_regul : 1e-3}\n",
    "        _, l, predictions = sess.run([optimizer, loss, train_prediction], feed_dict = feed_dict)\n",
    "        \n",
    "        if (step %2 ==0 ):\n",
    "            print(\"Minibatch loss at step %d: %f\" % (step, l))\n",
    "            print(\"Minibatch accuracy: %.1f%%\" % accuracy(predictions, batch_labels))\n",
    "            print(\"Validation accuracy: %.1f%%\" % accuracy(valid_prediction.eval(), valid_labels))\n",
    "    print(\"Test accuracy: %.1f%%\" % accuracy(test_prediction.eval(), test_labels))\n"
   ]
  },
  {
   "cell_type": "markdown",
   "metadata": {},
   "source": []
  },
  {
   "cell_type": "markdown",
   "metadata": {},
   "source": [
    "# Problem 3 (:  Dropout)\n",
    "\n",
    "Introduce Dropout on the hidden layer of the neural network.  \n",
    "Remember: Dropout should only be introduced during training, not evaluation, otherwise your evaluation results would be stochastic as well. TensorFlow provides nn.dropout() for that, but you have to make sure it's only inserted during training.\n",
    "\n",
    "What happens to our extreme overfitting case?"
   ]
  },
  {
   "cell_type": "code",
   "execution_count": 14,
   "metadata": {
    "collapsed": false
   },
   "outputs": [],
   "source": [
    "batch_size = 128\n",
    "num_hidden_nodes = 1024\n",
    "\n",
    "graph = tf.Graph()\n",
    "with graph.as_default():\n",
    "    # Input data\n",
    "    tf_train_dataset  = tf.placeholder(tf.float32, shape = (batch_size, image_size * image_size))\n",
    "    tf_train_labels = tf.placeholder(tf.float32, shape = (batch_size, num_labels) )\n",
    "    tf_valid_dataset = tf.constant(valid_dataset)\n",
    "    tf_test_dataset = tf.constant(test_dataset)\n",
    "    \n",
    "    # Variables\n",
    "    weights1 = tf.Variable(tf.truncated_normal([image_size * image_size, num_hidden_nodes]))\n",
    "    biases1 = tf.Variable(tf.zeros([num_hidden_nodes]))\n",
    "    weights2 = tf.Variable(tf.truncated_normal([num_hidden_nodes, num_labels]))\n",
    "    biases2 = tf.Variable(tf.zeros([num_labels]))\n",
    "    \n",
    "    # Training computation\n",
    "    layer1_train = tf.nn.relu(tf.matmul(tf_train_dataset, weights1) + biases1)\n",
    "    drop1 = tf.nn.dropout(layer1_train, 0.5)\n",
    "    logits = tf.matmul(drop1, weights2) + biases2\n",
    "    loss = tf.reduce_mean(tf.nn.softmax_cross_entropy_with_logits(logits, tf_train_labels))\n",
    "    \n",
    "    # Optimizer\n",
    "    optimizer = tf.train.GradientDescentOptimizer(.5).minimize(loss)\n",
    "    \n",
    "    # Prediction for the training, validation and test data\n",
    "    train_prediction = tf.nn.softmax(logits)\n",
    "\n",
    "    layer1_valid = tf.nn.relu(tf.matmul(tf_valid_dataset, weights1) + biases1)\n",
    "    valid_prediction = tf.nn.softmax(tf.matmul(layer1_valid, weights2) + biases2)\n",
    "    \n",
    "    layer1_test = tf.nn.relu(tf.matmul(tf_test_dataset, weights1) + biases1)\n",
    "    test_prediction = tf.nn.softmax(tf.matmul(layer1_test, weights2) + biases2)"
   ]
  },
  {
   "cell_type": "code",
   "execution_count": 15,
   "metadata": {
    "collapsed": false
   },
   "outputs": [
    {
     "name": "stdout",
     "output_type": "stream",
     "text": [
      "Minibatch loss at step 0: 589.277954\n",
      "Minibatch accuracy: 4.7%\n",
      "Validation accuracy: 10.0%\n",
      "Minibatch loss at step 2: 0.000000\n",
      "Minibatch accuracy: 100.0%\n",
      "Validation accuracy: 10.0%\n",
      "Minibatch loss at step 4: 0.000000\n",
      "Minibatch accuracy: 100.0%\n",
      "Validation accuracy: 10.0%\n",
      "Minibatch loss at step 6: 0.000000\n",
      "Minibatch accuracy: 100.0%\n",
      "Validation accuracy: 10.0%\n",
      "Minibatch loss at step 8: 0.000000\n",
      "Minibatch accuracy: 100.0%\n",
      "Validation accuracy: 10.0%\n",
      "Minibatch loss at step 10: 0.000000\n",
      "Minibatch accuracy: 100.0%\n",
      "Validation accuracy: 10.0%\n",
      "Test accuracy: 10.0%\n"
     ]
    }
   ],
   "source": [
    "num_steps = 11\n",
    "with tf.Session(graph = graph ) as sess:\n",
    "    tf.initialize_all_variables().run()\n",
    "    for step in range(num_steps):\n",
    "        offset = (step * batch_size) % (train_labels.shape[0] - batch_size)\n",
    "        \n",
    "        batch_data = train_dataset[offset: (offset + batch_size),:]\n",
    "        batch_labels = train_labels[offset: (offset + batch_size), :]\n",
    "        \n",
    "        feed_dict = {tf_train_dataset: batch_data, tf_train_labels: batch_labels}\n",
    "        _, l, predictions = sess.run([optimizer, loss, train_prediction], feed_dict = feed_dict)\n",
    "        \n",
    "        if(step %2 ==0):\n",
    "            print(\"Minibatch loss at step %d: %f\" % (step, l))\n",
    "            print(\"Minibatch accuracy: %.1f%%\" % accuracy(predictions, batch_labels))\n",
    "            print(\"Validation accuracy: %.1f%%\" % accuracy(valid_prediction.eval(), valid_labels))\n",
    "            \n",
    "    print(\"Test accuracy: %.1f%%\" % accuracy(test_prediction.eval(), test_labels))"
   ]
  },
  {
   "cell_type": "markdown",
   "metadata": {},
   "source": [
    "# Problem 4: Dropout + LearningRate Decay\n",
    "\n",
    "\n",
    "Try to get the best performance you can using a multi-layer model! The best reported test accuracy using a deep network is 97.1%.  \n",
    "One avenue you can explore is to add multiple layers.  \n",
    "\n",
    "Another one is to use learning rate decay:\n",
    "\n",
    "    global_step = tf.Variable(0)  # count the number of steps taken\n",
    "    learning_rate = tf.train.exponential_decay(0.5, step, ...)\n",
    "    optimizer = tf.train.GradientDescentOptimizer(learning_rate).minimize(loss, global_step=global_step)"
   ]
  },
  {
   "cell_type": "markdown",
   "metadata": {},
   "source": [
    "*** 3 - layer Nueral Networks ***"
   ]
  },
  {
   "cell_type": "code",
   "execution_count": null,
   "metadata": {
    "collapsed": false
   },
   "outputs": [],
   "source": [
    "batch_size = 128\n",
    "num_hidden_nodes1 = 1024\n",
    "num_hidden_nodes2 = 100\n",
    "beta_regul = 1e-3\n",
    "\n",
    "graph = tf.Graph()\n",
    "with graph.as_default():\n",
    "    # Input data\n",
    "    tf_train_dataset = tf.placeholder(tf.float32, shape=(batch_size, image_size * image_size))\n",
    "    tf_train_labels  = tf.placeholder(tf.float32, shape=(batch_size, num_labels)  )\n",
    "    tf_valid_dataset = tf.constant(valid_dataset)\n",
    "    tf_test_dataset = tf.constant(test_dataset)\n",
    "    global_step = tf.Variable(0)\n",
    "        \n",
    "    #Variables\n",
    "    wieghts1 = tf.Variable(\n",
    "        tf.truncated_normal([image_size*image_size, num_hidden_nodes1], stddev=np.sqrt(2.0/(image_size*image_size))))\n",
    "    biases1 = tf.Variable(tf.zeros([num_hidden_nodes1]))\n",
    "\n",
    "    weights2 = tf.Variable(\n",
    "        tf.truncated_normal([num_hidden_nodes1, num_hidden_nodes2],stddev= np.sqrt(2.0/num_hidden_nodes1) ))\n",
    "    biases2 = tf.Variable(tf.zeros([num_hidden_nodes2]))\n",
    "\n",
    "    weights3 = tf.Variable(tf.truncated_normal([num_hidden_nodes2, num_labels], stddev=np.sqrt(2.0/num_hidden_nodes2)))\n",
    "    biases3 = tf.Variable(tf.zeros([num_labels]))\n",
    "    \n",
    "\n",
    "    #Training Compuation\n",
    "    layer1_train = tf.nn.relu(tf.matmul(tf_train_dataset, weights1) + biases1)\n",
    "    layer2_train = tf.nn.relu(tf.matmul(layer1_train, weights2) + biases2)\n",
    "\n",
    "    logits = tf.matmul(layer2_train, wieghts3) + biases3\n",
    "    \n",
    "    loss = tf.reduce_mean(tf.nn.softmax_cross_entropy_with_logtis(logits, tf_train_labels)) + \\\n",
    "            beta_regul * (tf.nn.l2_loss(weights1) + tf.nn.l2_loss(weights2) + tf.nn.l2_loss(wieghts3))\n",
    "        \n",
    "\n",
    "    #Optimizer\n",
    "    learning_rate = tf.train.exponential_decay(0.5, global_step, 1000, 0.65, stairecase = True)\n",
    "    optimizer = tf.train.GradientDescentOptimizer(learning_rate).minimize(loss, global_step = global_step)\n",
    "    \n",
    "    #Prediction for the training, validation, and test data\n",
    "    train_prediction = tf.nn.softmax(logits)\n",
    "\n",
    "    layer1_valid = tf.nn.relu(tf.matmul(tf_valid_dataset, weights1) + biases1)\n",
    "    layer2_valid = tf.nn.relu(tf.matmul(layer1_valid, weights2) + biases2)\n",
    "    valid_prediction = tf.nn.softmax(tf.matmul(layer2_valid, weights3)+biases3)\n",
    "    \n",
    "    layer1_test = tf.nn.relu(tf.matmul(tf_test_dataset, weights1)+ biases1)\n",
    "    layer2_test = tf.nn.relu(tf.matmul(layer1_test, wieghts2) + biases2)\n",
    "    test_prediction = tf.nn.softmax(tf.matmul(layer2_test, weights3) + biases3)   "
   ]
  },
  {
   "cell_type": "markdown",
   "metadata": {},
   "source": [
    "** :Run Session **"
   ]
  },
  {
   "cell_type": "code",
   "execution_count": null,
   "metadata": {
    "collapsed": false
   },
   "outputs": [],
   "source": [
    "num_steps = 9001\n",
    "\n",
    "with tf.Session(graph = graph) as session:\n",
    "    tf.initialize_all_variables().run()\n",
    "    print(\"Initialized\")\n",
    "    for step in range(num_steps):\n",
    "        # Pick an offset within the training data, which has been randomized\n",
    "        # note: we could use better randomnization across epochs\n",
    "        offset = (step*batch_size) % (train_labels.shape[0] - batch_size)\n",
    "        \n",
    "        # Generate a minibatch\n",
    "        batch_data = train_dataset[offset:(offset+batch_size), :]\n",
    "        batch_labels = train_labels[offset:(offset + batch_size), :]\n",
    "        \n",
    "        #feed\n",
    "        feed_dict = {tf_train_dataset: batch_data, tf_train_labels: batch_labels}\n",
    "        _, l, predictions = session.run([optimizer, loss, train_prediction], feed_dict = feed_dict)\n",
    "        if (step % 500 ==0 ):\n",
    "            print(\"Minibatch loss at step %d: %f\" % (step, l))\n",
    "            print(\"Minibatch accuracy: %.1f%%\" % accuracy(predictions, batch_labels))\n",
    "            print(\"Validation accuracy: %.1f%%\" % accuracy(valid_prediction.eval(), valid_labels))\n",
    "        "
   ]
  }
 ],
 "metadata": {
  "kernelspec": {
   "display_name": "Python 2",
   "language": "python",
   "name": "python2"
  },
  "language_info": {
   "codemirror_mode": {
    "name": "ipython",
    "version": 2
   },
   "file_extension": ".py",
   "mimetype": "text/x-python",
   "name": "python",
   "nbconvert_exporter": "python",
   "pygments_lexer": "ipython2",
   "version": "2.7.11"
  }
 },
 "nbformat": 4,
 "nbformat_minor": 0
}

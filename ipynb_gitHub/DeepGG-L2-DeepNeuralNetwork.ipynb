{
 "cells": [
  {
   "cell_type": "markdown",
   "metadata": {},
   "source": [
    "# Lecture Summary\n",
    "\n",
    "## @ NueralNet 개요\n",
    "\n",
    "Lecture#1(Lec1) 에서 다룬 Linear model은 DeepLearning 단계가 아님  \n",
    "Lec1에서의 과정을 요약하면:  \n",
    "**(a)Linear modeling으로 socore를 계산(Wx+b) 하고, (b)이를 softmax로 총합이 1인 확률값으로 계산하고, (c) 최종적으로 클래스 값과 대응시키는 학습(multi-class 분류기인 multinomial logistic regression 구현, Loss function:cross entropy, gradient descent를 활용하여 최적해 도출)**\n",
    "\n",
    "![s1](img/L2-snap1.png)"
   ]
  },
  {
   "cell_type": "markdown",
   "metadata": {},
   "source": [
    "Udacity(google)의 본 강좌에서는, Neural Network에서 흔히 접근하는 Neuron을 통한 메타포적 설명과 수식적 설명을 차치하고, Lazy Engineer입장에서 CS적인 문제 해결 접근방식으로 DeepNetwork 문제해결방법을 설명.(Lazy Engineer, No Neuron 라는 접근 방식이 비CS입장에서는 흥미롭고 효율적인것 같음) \n",
    "\n",
    "Non linear 문제(W1\\*X1+W2\\*X2가 아닌 W\\*X1\\*X2 식의 문제)를 해결하기 위해서는, ReLu(rectified linear unit)와 같은 non-linear 함수를 활용해야함 (activation function)\n",
    "\n",
    "\n",
    "![snap2](img/L2-snap2a.png)\n",
    "\n",
    "SW engineer 입장에서, 다음과 같이 non-linear 문제를 해결하는 방안을 만들 수 있음:  H개의 ReLu함수와 곱해진 연산과정이 추가\n",
    "\n",
    "![snap2b](img/L2-snap2b.png)\n",
    "\n",
    "결론적으로 아래와 같은 일련의 연산 과정으로 Deep Network 방법을 구축하게 됨\n",
    "\n",
    "![snap2b](img/L2-snap2c.png)"
   ]
  },
  {
   "cell_type": "markdown",
   "metadata": {},
   "source": [
    "## @ Optimization\n",
    "* Loss Function: Cross Entropy\n",
    "![lossfunction](img/L2-loss.png )\n",
    "\n",
    "* Gradient Descent\n",
    "![GD](img/L2-GD.png)\n",
    "\n",
    "* Stochastic Gradient Descent(SGD)\n",
    "![SGD](img/L2-SGDa.png)\n",
    "\n",
    "* SGD 성능개선방법\n",
    "![SGD](img/L2-SGDb.png)\n",
    "![SGD](img/L2-SGDc.png)\n",
    "![SGD](img/L2-SGDd.png)\n"
   ]
  },
  {
   "cell_type": "markdown",
   "metadata": {},
   "source": [
    "## @ Evaluation&Validation (when using SGD)\n",
    "\n",
    "Learning Step이 커서 빠르게 Learning 한다고 좋은 것이 아니다. Loss가 큰 상태로 학습이 끝날수 있으니, 대체로 learning step은 작은게 좋음.\n",
    "특히나 SGD에서는 hyper parameter가 굉장히 많은데, ADAGRAD(자세한 설명은 안하고 옵션제시만함)를 사용할수 있거나, 위에서 언급했듯 learning rated을 낮춰가면됨\n",
    "\n",
    "![eval](img/L2-evala.png)\n",
    "![eval](img/L2-evalb.png)\n",
    "![eval](img/L2-evalc.png)"
   ]
  },
  {
   "cell_type": "markdown",
   "metadata": {},
   "source": [
    "----\n",
    "# Assignment ( #2 )"
   ]
  },
  {
   "cell_type": "markdown",
   "metadata": {},
   "source": [
    "Previously in 1_notmnist.ipynb, we created a pickle with formatted datasets for training, development and testing on the notMNIST dataset.  \n",
    "The goal of this assignment is to progressively train deeper and more accurate models using TensorFlow.\n",
    "\n",
    "** Assignment#1 에서 만들었던 모델을 Deeper&more accurate하게 만드는게 Assign2 목적 **  \n",
    "[참조코드1](https://github.com/Arn-O/udacity-deep-learning/blob/master/1_notmnist.ipynb)  \n",
    "[참조코드2](https://github.com/santiaago/udacity.ud730.deeplearning)"
   ]
  },
  {
   "cell_type": "code",
   "execution_count": 32,
   "metadata": {
    "collapsed": true
   },
   "outputs": [],
   "source": [
    "# These are all the modules we'll be using later. Make sure you can import them\n",
    "# before proceeding further.\n",
    "from __future__ import print_function\n",
    "import numpy as np\n",
    "import tensorflow as tf\n",
    "from six.moves import cPickle as pickle\n",
    "from six.moves import range\n",
    "\n",
    "#ymjung\n",
    "from scipy import stats"
   ]
  },
  {
   "cell_type": "markdown",
   "metadata": {},
   "source": [
    "assign#1에서 생성시킨 데이터를 리로드"
   ]
  },
  {
   "cell_type": "code",
   "execution_count": 33,
   "metadata": {
    "collapsed": false
   },
   "outputs": [
    {
     "name": "stdout",
     "output_type": "stream",
     "text": [
      "Training set (200000, 28, 28) (200000,)\n",
      "Validation set (10000, 28, 28) (10000,)\n",
      "Test set (10000, 28, 28) (10000,)\n"
     ]
    }
   ],
   "source": [
    "pickle_file = 'notMNIST.pickle'\n",
    "\n",
    "with open(pickle_file, 'rb') as f:\n",
    "  save = pickle.load(f)\n",
    "  train_dataset = save['train_dataset']\n",
    "  train_labels = save['train_labels']\n",
    "  valid_dataset = save['valid_dataset']\n",
    "  valid_labels = save['valid_labels']\n",
    "  test_dataset = save['test_dataset']\n",
    "  test_labels = save['test_labels']\n",
    "  del save  # hint to help gc free up memory\n",
    "  print('Training set', train_dataset.shape, train_labels.shape)\n",
    "  print('Validation set', valid_dataset.shape, valid_labels.shape)\n",
    "  print('Test set', test_dataset.shape, test_labels.shape)"
   ]
  },
  {
   "cell_type": "markdown",
   "metadata": {},
   "source": [
    "Reformat into a shape that's more adapted to the models we're going to train:\n",
    "- data as a flat matrix,\n",
    "- labels as float 1-hot encodings.\n",
    "\n",
    "모델 훈련에 적합하도록 데이터를 flat matrix 로 변형 & 1-hot encoding 방식으로 레이블링"
   ]
  },
  {
   "cell_type": "code",
   "execution_count": 34,
   "metadata": {
    "collapsed": false
   },
   "outputs": [],
   "source": [
    "if False:\n",
    "    \"\"\"reformat() 부연\"\"\"\n",
    "    \"\"\"부연\"\"\"\n",
    "    # reformat 함수 부연: \n",
    "    # -1 을 인자로 넣으면, 나머지 인자값을 통해 행 또는 열을'알아서' 판단.\n",
    "    # a 가 2X10 배열일때, reshape((5,-1))을 적으면 열의 개수를 알아서 판단\n",
    "    a = np.array([[1,2,3,4,5],[6,7,8,9,10]])\n",
    "    print (stats.describe(a))\n",
    "    print (\"\\n\")\n",
    "    print (a.reshape((1,10)))\n",
    "    print (a.reshape((-1,10))) \n",
    "    print (a.reshape((5,-1))) # the unspecified value is inferred to be 2\n",
    "\n",
    "    # 1-hot encoding 하기전\n",
    "    print (train_labels)\n",
    "    print (valid_labels)\n",
    "    print (test_labels)\n",
    "    print (test_labels[-10])\n",
    "    \n",
    "    # np.arange(10) == test_labels[:,None] 과정 설명: test_label을 N*1로 쪼개서, \n",
    "    # 0~9(arange(10), 1*10 array)에 해당하는 값을 True로 하는 1*10 boolean array를 생성, 이를 float으로 변환\n",
    "    print (test_labels[:,None])\n",
    "    print (np.arange(10)==test_labels[:,None])"
   ]
  },
  {
   "cell_type": "code",
   "execution_count": 35,
   "metadata": {
    "collapsed": false
   },
   "outputs": [
    {
     "name": "stdout",
     "output_type": "stream",
     "text": [
      "Training set (200000, 784) (200000, 10)\n",
      "Validation set (10000, 784) (10000, 10)\n",
      "Test set (10000, 784) (10000, 10)\n"
     ]
    }
   ],
   "source": [
    "image_size = 28\n",
    "num_labels = 10\n",
    "\n",
    "def reformat(dataset, labels):\n",
    "  dataset = dataset.reshape((-1, image_size * image_size)).astype(np.float32)\n",
    "  # Map 0 to [1.0, 0.0, 0.0 ...], 1 to [0.0, 1.0, 0.0 ...]\n",
    "  labels = (np.arange(num_labels) == labels[:,None]).astype(np.float32)\n",
    "  return dataset, labels\n",
    "\n",
    "\n",
    "train_dataset, train_labels = reformat(train_dataset, train_labels)\n",
    "valid_dataset, valid_labels = reformat(valid_dataset, valid_labels)\n",
    "test_dataset, test_labels = reformat(test_dataset, test_labels)\n",
    "print('Training set', train_dataset.shape, train_labels.shape)\n",
    "print('Validation set', valid_dataset.shape, valid_labels.shape)\n",
    "print('Test set', test_dataset.shape, test_labels.shape)"
   ]
  },
  {
   "cell_type": "markdown",
   "metadata": {},
   "source": [
    "We're first going to train a multinomial logistic regression using simple gradient descent.  \n",
    "TensorFlow works like this:  \n",
    "- First you describe the computation that you want to see performed: what the inputs, the variables, and the operations look like. These get created as nodes over a computation graph. This description is all contained within the block below:  \n",
    "\n",
    "    ```with graph.as_default():\n",
    "    ...    ```\n",
    "\n",
    "- Then you can run the operations on this graph as many times as you want by calling session.run(), providing it outputs to fetch from the graph that get returned. This runtime operation is all contained in the block below:  \n",
    "\n",
    "    ```with tf.Session(graph=graph) as session:\n",
    "    ...```\n",
    "\n",
    "Let's load all the data into TensorFlow and build the computation graph corresponding to our training:\n",
    "\n",
    "** 텐서플로우 연산 방식인 construct graph > run session 의 순서로 코드 작성 **"
   ]
  },
  {
   "cell_type": "markdown",
   "metadata": {},
   "source": [
    "Build graph:"
   ]
  },
  {
   "cell_type": "code",
   "execution_count": 36,
   "metadata": {
    "collapsed": false
   },
   "outputs": [],
   "source": [
    "# With gradient descent training, even this much data is prohibitive.\n",
    "# Subset the training data for faster turnaround.\n",
    "train_subset = 10000\n",
    "graph = tf.Graph()\n",
    "\n",
    "with graph.as_default():\n",
    "    # Input data.\n",
    "    # Load the training, validation and test data into constants that are\n",
    "    # attached to the graph.\n",
    "    tf_train_dataset = tf.constant(train_dataset[:train_subset, :])\n",
    "    tf_train_labels = tf.constant(train_labels[:train_subset])\n",
    "    tf_valid_dataset = tf.constant(valid_dataset)\n",
    "    tf_test_dataset = tf.constant(test_dataset)\n",
    "\n",
    "    # Variables.\n",
    "    # These are the parameters that we are going to be training. The weight\n",
    "    # matrix will be initialized using random valued following a (truncated)\n",
    "    # normal distribution. The biases get initialized to zero.\n",
    "    weights = tf.Variable(tf.truncated_normal([image_size * image_size, num_labels]))\n",
    "    biases = tf.Variable(tf.zeros([num_labels]))\n",
    "\n",
    "    # Training computation.\n",
    "    # We multiply the inputs with the weight matrix, and add biases. We compute\n",
    "    # the softmax and cross-entropy (it's one operation in TensorFlow, because\n",
    "    # it's very common, and it can be optimized). We take the average of this\n",
    "    # cross-entropy across all training examples: that's our loss.\n",
    "    logits = tf.matmul(tf_train_dataset, weights) + biases\n",
    "    loss = tf.reduce_mean(tf.nn.softmax_cross_entropy_with_logits(logits, tf_train_labels))\n",
    "\n",
    "    # Optimizer.\n",
    "    # We are going to find the minimum of this loss using gradient descent.\n",
    "    optimizer = tf.train.GradientDescentOptimizer(0.5).minimize(loss)\n",
    "\n",
    "    # Predictions for the training, validation, and test data.\n",
    "    # These are not part of training, but merely here so that we can report\n",
    "    # accuracy figures as we train.\n",
    "\n",
    "    train_prediction = tf.nn.softmax(logits)\n",
    "    valid_prediction = tf.nn.softmax(tf.matmul(tf_valid_dataset, weights) + biases)\n",
    "    test_prediction = tf.nn.softmax(tf.matmul(tf_test_dataset, weights) + biases)"
   ]
  },
  {
   "cell_type": "markdown",
   "metadata": {},
   "source": [
    "Compute:"
   ]
  },
  {
   "cell_type": "code",
   "execution_count": 37,
   "metadata": {
    "collapsed": false
   },
   "outputs": [
    {
     "name": "stdout",
     "output_type": "stream",
     "text": [
      "Initialized\n",
      "Loss at step 0: 16.987694\n",
      "Training accuracy: 2.4%\n",
      "Validation accuracy: 12.4%\n",
      "Loss at step 100: 0.482089\n",
      "Training accuracy: 95.3%\n",
      "Validation accuracy: 12.5%\n",
      "Loss at step 200: 0.267107\n",
      "Training accuracy: 96.9%\n",
      "Validation accuracy: 12.0%\n",
      "Loss at step 300: 0.164763\n",
      "Training accuracy: 97.7%\n",
      "Validation accuracy: 11.5%\n",
      "Loss at step 400: 0.108455\n",
      "Training accuracy: 98.3%\n",
      "Validation accuracy: 11.3%\n",
      "Loss at step 500: 0.075428\n",
      "Training accuracy: 98.8%\n",
      "Validation accuracy: 11.1%\n",
      "Loss at step 600: 0.054257\n",
      "Training accuracy: 99.1%\n",
      "Validation accuracy: 10.9%\n",
      "Loss at step 700: 0.039811\n",
      "Training accuracy: 99.3%\n",
      "Validation accuracy: 10.9%\n",
      "Loss at step 800: 0.030040\n",
      "Training accuracy: 99.4%\n",
      "Validation accuracy: 10.8%\n",
      "Test Accuracy: 10.9%\n"
     ]
    }
   ],
   "source": [
    "num_steps = 801\n",
    "\n",
    "def accuracy(predictions, labels):\n",
    "    return (100.0 * np.sum(np.argmax(predictions, 1) == np.argmax(labels,1))\n",
    "            / predictions.shape[0])\n",
    "\n",
    "with tf.Session(graph = graph) as session:\n",
    "    tf.initialize_all_variables().run()\n",
    "    print('Initialized')\n",
    "    for step in range(num_steps):\n",
    "        # Run the computations. We tell .run() that we want to run the optimizer,\n",
    "        # and get the loss value and the training predictions returned as numpy arrays.\n",
    "        _, l, predictions = session.run([optimizer, loss, train_prediction])\n",
    "        if (step % 100 ==0 ):\n",
    "            print ('Loss at step %d: %f' %(step,l))\n",
    "            print ('Training accuracy: %.1f%%' % accuracy(predictions, train_labels[:train_subset, :]))\n",
    "            # Calling .eval() on valid_prediction is basically like calling run(), but\n",
    "            # just to get that one numpy array. Note that it recomputes all its graph\n",
    "            # dependencies.\n",
    "            print ('Validation accuracy: %.1f%%' % accuracy(valid_prediction.eval(), valid_labels))\n",
    "    print ('Test Accuracy: %.1f%%' % accuracy(test_prediction.eval(), test_labels))\n",
    "\n"
   ]
  },
  {
   "cell_type": "markdown",
   "metadata": {},
   "source": [
    "Let's now switch to stochastic gradient descent training instead, which is much faster.  \n",
    "\n",
    "\n",
    "The graph will be similar, except that instead of holding all the training data into a constant node, we create a Placeholder node which will be fed actual data at every call of `session.run().`  \n",
    "\n",
    "### 이번엔 위와 달리 SGD를 이용해서 Graph Construction:"
   ]
  },
  {
   "cell_type": "code",
   "execution_count": 27,
   "metadata": {
    "collapsed": true
   },
   "outputs": [],
   "source": [
    "batch_size = 128\n",
    "graph = tf.Graph()\n",
    "\n",
    "with graph.as_default():\n",
    "    # Input data. For the training data, we use a placeholder that will be fed\n",
    "    # at run time with a training minibatch.\n",
    "    tf_train_dataset = tf.placeholder(tf.float32, shape=(batch_size, image_size * image_size))\n",
    "    tf_train_labels = tf.placeholder(tf.float32, shape=(batch_size, num_labels))\n",
    "    tf_valid_dataset = tf.constant(valid_dataset)\n",
    "    tf_test_dataset = tf.constant(test_dataset)\n",
    "\n",
    "    # Variables.\n",
    "    weights = tf.Variable(tf.truncated_normal([image_size * image_size, num_labels]))\n",
    "    biases = tf.Variable(tf.zeros([num_labels]))\n",
    "\n",
    "    # Training computation.\n",
    "    logits = tf.matmul(tf_train_dataset, weights) + biases\n",
    "    loss = tf.reduce_mean(tf.nn.softmax_cross_entropy_with_logits(logits, tf_train_labels))\n",
    "\n",
    "    # Optimizer.\n",
    "    optimizer = tf.train.GradientDescentOptimizer(0.5).minimize(loss)\n",
    "\n",
    "    # Predictions for the training, validation, and test data.\n",
    "    train_prediction = tf.nn.softmax(logits)\n",
    "    valid_prediction = tf.nn.softmax(tf.matmul(tf_valid_dataset, weights) + biases)\n",
    "    test_prediction = tf.nn.softmax(tf.matmul(tf_test_dataset, weights) + biases)"
   ]
  },
  {
   "cell_type": "markdown",
   "metadata": {},
   "source": [
    "Run:"
   ]
  },
  {
   "cell_type": "code",
   "execution_count": 28,
   "metadata": {
    "collapsed": false
   },
   "outputs": [
    {
     "name": "stdout",
     "output_type": "stream",
     "text": [
      "Initialized\n",
      "Minibatch loss at step 0: 24.483419\n",
      "Minibatch accuracy: 2.3%\n",
      "Validation accuracy: 13.9%\n",
      "Minibatch loss at step 500: 0.577080\n",
      "Minibatch accuracy: 94.5%\n",
      "Validation accuracy: 21.4%\n",
      "Minibatch loss at step 1000: 0.452049\n",
      "Minibatch accuracy: 96.1%\n",
      "Validation accuracy: 20.0%\n",
      "Minibatch loss at step 1500: 0.406569\n",
      "Minibatch accuracy: 98.4%\n",
      "Validation accuracy: 17.4%\n",
      "Minibatch loss at step 2000: 0.380601\n",
      "Minibatch accuracy: 96.9%\n",
      "Validation accuracy: 19.3%\n",
      "Minibatch loss at step 2500: 1.554680\n",
      "Minibatch accuracy: 85.2%\n",
      "Validation accuracy: 26.0%\n",
      "Minibatch loss at step 3000: 0.991193\n",
      "Minibatch accuracy: 94.5%\n",
      "Validation accuracy: 18.0%\n",
      "Test accuracy: 20.0%\n"
     ]
    }
   ],
   "source": [
    "num_steps = 3001\n",
    "\n",
    "with tf.Session(graph = graph) as session:\n",
    "    tf.initialize_all_variables().run()\n",
    "    print (\"Initialized\")\n",
    "    for step in range(num_steps):\n",
    "        # Pick an offset within the traning data, wich has been randomized.\n",
    "        #note: we could use better randomization across epochs.\n",
    "        offset = (step * batch_size) % (train_labels.shape[0] - batch_size)\n",
    "        \n",
    "        # Generate a minibatch\n",
    "        batch_data = train_dataset[offset: (offset + batch_size), :]\n",
    "        batch_labels = train_labels[offset: (offset + batch_size), :]\n",
    "        \n",
    "        # Prepare a dictionary telling the session where to feed the minibatch.\n",
    "        # The key of the dictionary is the placeholder node of the graph to be fed,\n",
    "        # and the value is the numpy array to feed to it.\n",
    "        feed_dict = {tf_train_dataset: batch_data, tf_train_labels: batch_labels}\n",
    "        _, l, predictions = session.run([optimizer, loss, train_prediction], feed_dict = feed_dict)\n",
    "        \n",
    "        if (step % 500 ==0):\n",
    "            print(\"Minibatch loss at step %d: %f\" % (step, l))\n",
    "            print(\"Minibatch accuracy: %.1f%%\" % accuracy(predictions, batch_labels))\n",
    "            print(\"Validation accuracy: %.1f%%\" % accuracy(valid_prediction.eval(), valid_labels))    \n",
    "            \n",
    "    print(\"Test accuracy: %.1f%%\" % accuracy(test_prediction.eval(), test_labels))\n",
    "    \n"
   ]
  },
  {
   "cell_type": "markdown",
   "metadata": {},
   "source": [
    "## Problem\n",
    "Turn the logistic regression example with SGD into a 1-hidden layer neural network with rectified linear units (nn.relu()) and 1024 hidden nodes. This model should improve your validation / test accuracy."
   ]
  },
  {
   "cell_type": "code",
   "execution_count": 38,
   "metadata": {
    "collapsed": false
   },
   "outputs": [],
   "source": [
    "batch_size = 128\n",
    "\n",
    "graph = tf.Graph()\n",
    "\n",
    "with graph.as_default():\n",
    "    # input data\n",
    "    # for training data, we use a placeholder to be fed at run time with a training minibatch.\n",
    "    tf_train_dataset = tf.placeholder(tf.float32, shape = (batch_size, image_size * image_size))\n",
    "    tf_train_labels = tf.placeholder(tf.float32, shape = (batch_size, num_labels) )\n",
    "    tf_valid_dataset = tf.constant(valid_dataset)\n",
    "    tf_test_dataset = tf.constant(test_dataset)\n",
    "    \n",
    "    \"\"\" hidden layer \"\"\"\n",
    "    hidden_nodes = 1024\n",
    "    # variable for hidden layer\n",
    "    hidden_weights = tf.Variable(tf.truncated_normal([image_size * image_size, hidden_nodes]))\n",
    "    hidden_biases = tf.Variable(tf.zeros([hidden_nodes]))\n",
    "    hidden_layer = tf.nn.relu(tf.matmul( tf_train_dataset, hidden_weights) + hidden_biases)# activation function\n",
    "    \n",
    "    #Variable\n",
    "    weights = tf.Variable(tf.truncated_normal([hidden_nodes, num_labels]))\n",
    "    biases = tf.Variable(tf.zeros([num_labels]))\n",
    "    \n",
    "    #Training computation\n",
    "    logits = tf.matmul(hidden_layer, weights) + biases\n",
    "    loss = tf.reduce_mean(tf.nn.softmax_cross_entropy_with_logits(logits, tf_train_labels))\n",
    "    \n",
    "    #Optimizer\n",
    "    optimizer = tf.train.GradientDescentOptimizer(.5).minimize(loss)\n",
    "    \n",
    "    #Predictions\n",
    "    train_prediction = tf.nn.softmax(logits)\n",
    "    valid_relu = tf.nn.relu(tf.matmul(tf_valid_dataset, hidden_weights) + hidden_biases)\n",
    "    valid_prediction = tf.nn.softmax(tf.matmul(valid_relu, weights)+biases)\n",
    "    \n",
    "    test_relu = tf.nn.relu(tf.matmul(tf_test_dataset, hidden_weights)+hidden_biases)\n",
    "    test_prediction = tf.nn.softmax(tf.matmul(test_relu, weights) + biases)"
   ]
  },
  {
   "cell_type": "markdown",
   "metadata": {},
   "source": [
    "Execute:"
   ]
  },
  {
   "cell_type": "code",
   "execution_count": 42,
   "metadata": {
    "collapsed": false
   },
   "outputs": [
    {
     "name": "stdout",
     "output_type": "stream",
     "text": [
      "Initialized\n",
      "Minibatch loss at step 0: 278.124908\n",
      "Minibatch accuracy: 1.6%\n",
      "Vlidation accuracy: 10.0%\n",
      "Minibatch loss at step 500: 0.000000\n",
      "Minibatch accuracy: 100.0%\n",
      "Vlidation accuracy: 11.1%\n",
      "Minibatch loss at step 1000: 0.000009\n",
      "Minibatch accuracy: 100.0%\n",
      "Vlidation accuracy: 13.8%\n",
      "Minibatch loss at step 1500: 0.000000\n",
      "Minibatch accuracy: 100.0%\n",
      "Vlidation accuracy: 10.1%\n",
      "Minibatch loss at step 2000: 0.000000\n",
      "Minibatch accuracy: 100.0%\n",
      "Vlidation accuracy: 18.6%\n",
      "Minibatch loss at step 2500: 10.274952\n",
      "Minibatch accuracy: 89.8%\n",
      "Vlidation accuracy: 28.6%\n",
      "Minibatch loss at step 3000: 0.000000\n",
      "Minibatch accuracy: 100.0%\n",
      "Vlidation accuracy: 16.2%\n",
      "Test accuracy: 16.4%\n"
     ]
    }
   ],
   "source": [
    "num_steps = 3001\n",
    "\n",
    "with tf.Session(graph=graph) as session:\n",
    "    tf.initialize_all_variables().run()\n",
    "    print(\"Initialized\")\n",
    "    for step in range(num_steps):\n",
    "        # randomninzed offset \n",
    "        # Note: could use better randomization across epochs\n",
    "        offset = (step * batch_size) % (train_labels.shape[0] - batch_size)\n",
    "        # Generate a minibatch\n",
    "        batch_data = train_dataset[offset:(offset + batch_size), :]\n",
    "        batch_labels = train_labels[offset: (offset + batch_size), :]\n",
    "        # Prepare a dictionary telling the session where to feed the mini batch\n",
    "        # The Key of the dictionary is the placeholder node of the graph to be fed, \n",
    "        # and the value is the numpy array to feed to it\n",
    "        feed_dict = {tf_train_dataset : batch_data, tf_train_labels: batch_labels}\n",
    "        _,l,predictions = session.run([optimizer, loss, train_prediction], feed_dict = feed_dict)\n",
    "        if (step % 500 == 0):\n",
    "            print (\"Minibatch loss at step %d: %f\" % (step, l))\n",
    "            print (\"Minibatch accuracy: %.1f%%\" % accuracy(predictions, batch_labels))\n",
    "            print (\"Vlidation accuracy: %.1f%%\" % accuracy(valid_prediction.eval(), valid_labels))\n",
    "    print(\"Test accuracy: %.1f%%\" % accuracy(test_prediction.eval(), test_labels) )\n"
   ]
  }
 ],
 "metadata": {
  "kernelspec": {
   "display_name": "Python 2",
   "language": "python",
   "name": "python2"
  },
  "language_info": {
   "codemirror_mode": {
    "name": "ipython",
    "version": 2
   },
   "file_extension": ".py",
   "mimetype": "text/x-python",
   "name": "python",
   "nbconvert_exporter": "python",
   "pygments_lexer": "ipython2",
   "version": "2.7.11"
  }
 },
 "nbformat": 4,
 "nbformat_minor": 0
}

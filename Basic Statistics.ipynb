{
 "cells": [
  {
   "cell_type": "markdown",
   "metadata": {},
   "source": [
    "** * Objective: Basic Statistics practices for  exploratory data analysis (EDA) **  \n",
    "아래 래퍼런스에는 내부함수를 이용한것을 numpy 를 이용해 재구성  \n",
    "\n",
    "** * References **\n",
    "- Data Analysis from the scratch\n",
    "- ThinkStats  \n",
    "\n",
    "_ *mathjax library is implemented _\n",
    "<script type=\"text/javascript\"  src=\"http://cdn.mathjax.org/mathjax/latest/MathJax.js?config=TeX-AMS-MML_HTMLorMML\"></script>"
   ]
  },
  {
   "cell_type": "markdown",
   "metadata": {},
   "source": [
    "##Describing a Single Set of Data"
   ]
  },
  {
   "cell_type": "markdown",
   "metadata": {},
   "source": [
    ">  \n",
    "```css\n",
    "plt.bar()\n",
    "```\n",
    ">  "
   ]
  },
  {
   "cell_type": "code",
   "execution_count": 42,
   "metadata": {
    "collapsed": false
   },
   "outputs": [],
   "source": [
    "from matplotlib import pyplot as plt\n",
    "import numpy as np\n",
    "%matplotlib inline\n",
    "\n",
    "from __future__ import division\n",
    "\n"
   ]
  },
  {
   "cell_type": "code",
   "execution_count": 31,
   "metadata": {
    "collapsed": false
   },
   "outputs": [
    {
     "data": {
      "image/png": "[encoded data removed]",
      "text/plain": [
       "<matplotlib.figure.Figure at 0x1124378d0>"
      ]
     },
     "metadata": {},
     "output_type": "display_data"
    }
   ],
   "source": [
    "num_friends = [100,49,41,40,25,21,21,19,19,18,18,16,15,15,15,15,14,14,13,13,13,13,12,12,11,10,10,10,10,10,10,10,10,10,10,10,10,10,10,10,9,9,9,9,9,9,9,9,9,9,9,9,9,9,9,9,9,9,8,8,8,8,8,8,8,8,8,8,8,8,8,7,7,7,7,7,7,7,7,7,7,7,7,7,7,7,6,6,6,6,6,6,6,6,6,6,6,6,6,6,6,6,6,6,6,6,6,6,5,5,5,5,5,5,5,5,5,5,5,5,5,5,5,5,5,4,4,4,4,4,4,4,4,4,4,4,4,4,4,4,4,4,4,4,4,3,3,3,3,3,3,3,3,3,3,3,3,3,3,3,3,3,3,3,3,2,2,2,2,2,2,2,2,2,2,2,2,2,2,2,2,2,1,1,1,1,1,1,1,1,1,1,1,1,1,1,1,1,1,1,1,1,1,1]\n",
    "friend_counts = Counter(num_friends)\n",
    "\n",
    "xs = range(101)\n",
    "ys = [friend_counts[x] for x in xs]\n",
    "\n",
    "plt.bar(xs, ys)\n",
    "plt.axis([0, 101, 0, 25])\n",
    "plt.title(\"Histogram of Friend Counts\")\n",
    "plt.xlabel(\"# of friends\")\n",
    "plt.ylabel(\"# of people\")\n",
    "plt.show()\n"
   ]
  },
  {
   "cell_type": "markdown",
   "metadata": {},
   "source": [
    "##Central Tendencies"
   ]
  },
  {
   "cell_type": "markdown",
   "metadata": {},
   "source": [
    "** # Mean **"
   ]
  },
  {
   "cell_type": "code",
   "execution_count": 43,
   "metadata": {
    "collapsed": false
   },
   "outputs": [
    {
     "name": "stdout",
     "output_type": "stream",
     "text": [
      "2.5\n",
      "[ 2.  3.]\n",
      "[ 1.5  3.5]\n"
     ]
    }
   ],
   "source": [
    "a = np.array([[1, 2], [3, 4]])\n",
    "\n",
    "aa= np.mean(a)\n",
    "ab= np.mean(a, axis=0)\n",
    "ac= np.mean(a, axis=1)\n",
    "\n",
    "print aa\n",
    "print ab\n",
    "print ac"
   ]
  },
  {
   "cell_type": "markdown",
   "metadata": {},
   "source": [
    "** # Median **"
   ]
  },
  {
   "cell_type": "code",
   "execution_count": 46,
   "metadata": {
    "collapsed": false
   },
   "outputs": [
    {
     "data": {
      "text/plain": [
       "6.0"
      ]
     },
     "execution_count": 46,
     "metadata": {},
     "output_type": "execute_result"
    }
   ],
   "source": [
    "np.median(num_friends)"
   ]
  },
  {
   "cell_type": "markdown",
   "metadata": {},
   "source": [
    "** # Quantile **  \n",
    "numpy에서는 percentile로 씀"
   ]
  },
  {
   "cell_type": "code",
   "execution_count": 50,
   "metadata": {
    "collapsed": false
   },
   "outputs": [
    {
     "data": {
      "text/plain": [
       "3.0"
      ]
     },
     "execution_count": 50,
     "metadata": {},
     "output_type": "execute_result"
    }
   ],
   "source": [
    "np.percentile(num_friends,25) # 25%"
   ]
  },
  {
   "cell_type": "markdown",
   "metadata": {
    "collapsed": true
   },
   "source": [
    "#### #Tips:   직접 작성한 라이브러리 패스 설정"
   ]
  },
  {
   "cell_type": "code",
   "execution_count": null,
   "metadata": {
    "collapsed": false
   },
   "outputs": [],
   "source": [
    "import sys\n",
    "#sys.path.append(\"/Users/syleeie/analyticstool/part1/python/code-python3\") #난 Numpy 쓸거니까 무시."
   ]
  },
  {
   "cell_type": "markdown",
   "metadata": {},
   "source": [
    "## Dispersion  분포, 산포"
   ]
  },
  {
   "cell_type": "markdown",
   "metadata": {},
   "source": [
    "** #변동계수?? ** [설명](http://terms.naver.com/entry.nhn?docId=293901&cid=42412&categoryId=42412)\n"
   ]
  },
  {
   "cell_type": "markdown",
   "metadata": {},
   "source": [
    "## Correlation\n",
    "covariance는 단위unit가 다른 것들의 곱이고, 지표간 크기/스케일이 다른 문제점이 있음 \n",
    "그래서 각각의 표준편차를 나눈 correlation가 도출됨  \n",
    "covariance가 0에 가까워야 상관도가 적음\n"
   ]
  },
  {
   "cell_type": "markdown",
   "metadata": {},
   "source": [
    "** #Covariance matrix:   **  "
   ]
  },
  {
   "cell_type": "code",
   "execution_count": 54,
   "metadata": {
    "collapsed": false
   },
   "outputs": [
    {
     "data": {
      "text/plain": [
       "array([[  81.54351396,   22.42543514],\n",
       "       [  22.42543514,  100.78589895]])"
      ]
     },
     "execution_count": 54,
     "metadata": {},
     "output_type": "execute_result"
    }
   ],
   "source": [
    "np.cov(num_friends, daily_minutes)"
   ]
  },
  {
   "cell_type": "markdown",
   "metadata": {},
   "source": [
    "Covariance Matrix는 아래와 같음\n",
    "\\begin{bmatrix} \\sum { XX }  & \\sum { XY }  \\\\ \\sum { YX }  & \\sum { YY }  \\end{bmatrix}\n",
    "\n",
    "따라서 위 에서 22.42XX 이부분이 두 지표의 공분산(covariance)임\n"
   ]
  },
  {
   "cell_type": "markdown",
   "metadata": {},
   "source": [
    "** # Correlation **\n"
   ]
  },
  {
   "cell_type": "code",
   "execution_count": 56,
   "metadata": {
    "collapsed": false
   },
   "outputs": [
    {
     "data": {
      "text/plain": [
       "array([[ 1.        ,  0.24736957],\n",
       "       [ 0.24736957,  1.        ]])"
      ]
     },
     "execution_count": 56,
     "metadata": {},
     "output_type": "execute_result"
    }
   ],
   "source": [
    "np.corrcoef(num_friends,daily_minutes) # 0.24"
   ]
  },
  {
   "cell_type": "markdown",
   "metadata": {},
   "source": [
    "** correlation equation: **\n",
    "\n",
    "$$\\rho _{ X,Y }=corr(X,Y)=\\frac { _{ cov(X,Y) } }{ \\sigma _{ X }\\sigma _{ Y } } $$\n"
   ]
  },
  {
   "cell_type": "code",
   "execution_count": 61,
   "metadata": {
    "collapsed": false
   },
   "outputs": [
    {
     "name": "stdout",
     "output_type": "stream",
     "text": [
      "corr =\n",
      "[[ 1.          0.24736957]\n",
      " [ 0.24736957  1.        ]]\n"
     ]
    },
    {
     "data": {
      "image/png": "[encoded data removed]",
      "text/plain": [
       "<matplotlib.figure.Figure at 0x11246be90>"
      ]
     },
     "metadata": {},
     "output_type": "display_data"
    }
   ],
   "source": [
    "corr = np.corrcoef(num_friends, daily_minutes) \n",
    "print \"corr =\\n\", corr \n",
    "\n",
    "plt.scatter(num_friends, daily_minutes)\n",
    "plt.axis([0, 100, 0, 80])\n",
    "plt.title(\"Scatter plot\")\n",
    "plt.xlabel(\"# num of friends\")\n",
    "plt.ylabel(\"# daily_minutes\")\n",
    "plt.show()"
   ]
  },
  {
   "cell_type": "markdown",
   "metadata": {},
   "source": [
    "** #Outliers 처리 **"
   ]
  },
  {
   "cell_type": "code",
   "execution_count": 65,
   "metadata": {
    "collapsed": false
   },
   "outputs": [
    {
     "data": {
      "text/plain": [
       "array([[ 1.        ,  0.57367921],\n",
       "       [ 0.57367921,  1.        ]])"
      ]
     },
     "execution_count": 65,
     "metadata": {},
     "output_type": "execute_result"
    }
   ],
   "source": [
    "outlier = num_friends.index(100) # index of outlier, 그래프 보고 아웃라이어 하드하게 추출. \n",
    "\n",
    "num_friends_good = [x for i, x in enumerate(num_friends)  if i != outlier]\n",
    "daily_minutes_good = [x for i, x in enumerate(daily_minutes) if i != outlier]\n",
    "\n",
    "np.corrcoef(num_friends_good, daily_minutes_good) # 0.57"
   ]
  },
  {
   "cell_type": "markdown",
   "metadata": {},
   "source": [
    "outlier 제거후에 correlation이 더 증가함을 확인 할 수 있음\n"
   ]
  },
  {
   "cell_type": "markdown",
   "metadata": {},
   "source": [
    "## Simpson’s Paradox --> 유명하니까 생략\n",
    "\n"
   ]
  },
  {
   "cell_type": "markdown",
   "metadata": {},
   "source": [
    "## Correlational Caveats\n",
    "\n",
    "** # correlation 이 0(zero)일때, 두 변수간의 관계는 없다?? --> NO! **\n"
   ]
  },
  {
   "cell_type": "code",
   "execution_count": null,
   "metadata": {
    "collapsed": true
   },
   "outputs": [],
   "source": [
    "x = [ -2, -1, 0, 1, 2]\n",
    "y = [2, 1, 0, 1, 2]\n",
    "np.corrcoef(x,y) # corr = 0"
   ]
  },
  {
   "cell_type": "markdown",
   "metadata": {},
   "source": [
    "correlation 이 0 으로 나오나, 명백히 절대값을 취한 관계를 아래와 같이 알수 있음"
   ]
  },
  {
   "cell_type": "code",
   "execution_count": 68,
   "metadata": {
    "collapsed": false
   },
   "outputs": [
    {
     "data": {
      "text/plain": [
       "<matplotlib.collections.PathCollection at 0x11231b410>"
      ]
     },
     "execution_count": 68,
     "metadata": {},
     "output_type": "execute_result"
    },
    {
     "data": {
      "image/png": "[encoded data removed]",
      "text/plain": [
       "<matplotlib.figure.Figure at 0x1122a2590>"
      ]
     },
     "metadata": {},
     "output_type": "display_data"
    }
   ],
   "source": [
    "plt.scatter(x,y)"
   ]
  },
  {
   "cell_type": "markdown",
   "metadata": {},
   "source": [
    "** # correlation은 관계가 얼마나 큰지는 알려줄 수 없다. **   \n",
    "예시:"
   ]
  },
  {
   "cell_type": "code",
   "execution_count": 73,
   "metadata": {
    "collapsed": false
   },
   "outputs": [
    {
     "name": "stdout",
     "output_type": "stream",
     "text": [
      "corr = [[ 1.          0.83405766]\n",
      " [ 0.83405766  1.        ]]\n"
     ]
    },
    {
     "data": {
      "text/plain": [
       "<matplotlib.collections.PathCollection at 0x11235fa90>"
      ]
     },
     "execution_count": 73,
     "metadata": {},
     "output_type": "execute_result"
    },
    {
     "data": {
      "image/png": "[encoded data removed]",
      "text/plain": [
       "<matplotlib.figure.Figure at 0x112203910>"
      ]
     },
     "metadata": {},
     "output_type": "display_data"
    }
   ],
   "source": [
    "x = [-2,1,0,1,2]\n",
    "y = [99.98,99.99, 100, 100.01, 100.02]\n",
    "print \"corr =\", np.corrcoef(x,y) # corr = 0.83\n",
    "plt.scatter(x,y)"
   ]
  },
  {
   "cell_type": "markdown",
   "metadata": {},
   "source": [
    "##Correlation and Causation  \n",
    "\n",
    "- 사실 상관관계와 인과관계를 정확히 구분하거나 인과성을 찾는건 어려운 일 (causality check나 graphical modeling, domain 지식, 논리학, 실험등등이 필요 )  \n",
    "- 겉으로는 그럴듯해보이는 이상한 상관관계의 도표 모음(재미) [링크](http://www.tylervigen.com/spurious-correlations)\n"
   ]
  }
 ],
 "metadata": {
  "kernelspec": {
   "display_name": "Python 2",
   "language": "python",
   "name": "python2"
  },
  "language_info": {
   "codemirror_mode": {
    "name": "ipython",
    "version": 2
   },
   "file_extension": ".py",
   "mimetype": "text/x-python",
   "name": "python",
   "nbconvert_exporter": "python",
   "pygments_lexer": "ipython2",
   "version": "2.7.10"
  }
 },
 "nbformat": 4,
 "nbformat_minor": 0
}

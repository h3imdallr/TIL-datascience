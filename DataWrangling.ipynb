{
 "cells": [
  {
   "cell_type": "markdown",
   "metadata": {},
   "source": [
    "Note: 데이터 로딩, 랭글링에 관한 자료정리 <br/> \n",
    "Major References:\n",
    "- python for Data Analysis, O'Reilly, WesMckinney\n",
    "- Getting and Cleaning Data, Coursera, John's Hopkins\n",
    "---"
   ]
  },
  {
   "cell_type": "markdown",
   "metadata": {},
   "source": [
    "#Data Loading, Storage, and File Formats"
   ]
  },
  {
   "cell_type": "code",
   "execution_count": 1,
   "metadata": {},
   "outputs": [],
   "source": [
    "import pandas as pd"
   ]
  },
  {
   "cell_type": "markdown",
   "metadata": {},
   "source": [
    "##데이터 로딩"
   ]
  },
  {
   "cell_type": "code",
   "execution_count": 2,
   "metadata": {},
   "outputs": [
    {
     "name": "stdout",
     "output_type": "stream",
     "text": [
      "a,b,c,d,message\r\n",
      "1,2,3,4,hello\r\n",
      "5,6,7,8,world\r\n",
      "9,10,11,12,foo"
     ]
    }
   ],
   "source": [
    "#!cat for printing\n",
    "!cat ex-pydatabook/ch06/ex1.csv"
   ]
  },
  {
   "cell_type": "code",
   "execution_count": 3,
   "metadata": {},
   "outputs": [
    {
     "name": "stdout",
     "output_type": "stream",
     "text": [
      "key1,key2,value1,value2\r\n",
      "one,a,1,2\r\n",
      "one,b,3,4\r\n",
      "one,c,5,6\r\n",
      "one,d,7,8\r\n",
      "two,a,9,10\r\n",
      "two,b,11,12\r\n",
      "two,c,13,14\r\n",
      "two,d,15,16\r\n"
     ]
    }
   ],
   "source": [
    "#Read .CSV file into a DataFrame\n",
    "df = pd.read_csv('ex-pydatabook/ch06/ex1.csv')\n",
    "\n",
    "#names: 아래와 같이 헤더(인덱스)를 지정해 줄 수 있음\n",
    "df = pd.read_csv('ex-pydatabook/ch06/ex1.csv', names= ['a','b','c','d','message'])\n",
    "\n",
    "#index_col: 컬럼 하나를 인덱싱으로 지정할 수 있음\n",
    "nm = ['a','b','c','d','message']\n",
    "df = pd.read_csv('ex-pydatabook/ch06/ex1.csv', names = nm , index_col='message')\n",
    "\n",
    "#계층적 색인 (hierarchical index)\n",
    "!cat ex-pydatabook/ch06/csv_mindex.csv"
   ]
  },
  {
   "cell_type": "code",
   "execution_count": 4,
   "metadata": {},
   "outputs": [
    {
     "data": {
      "text/html": [
       "<div>\n",
       "<table border=\"1\" class=\"dataframe\">\n",
       "  <thead>\n",
       "    <tr style=\"text-align: right;\">\n",
       "      <th></th>\n",
       "      <th></th>\n",
       "      <th>value1</th>\n",
       "      <th>value2</th>\n",
       "    </tr>\n",
       "    <tr>\n",
       "      <th>key1</th>\n",
       "      <th>key2</th>\n",
       "      <th></th>\n",
       "      <th></th>\n",
       "    </tr>\n",
       "  </thead>\n",
       "  <tbody>\n",
       "    <tr>\n",
       "      <th rowspan=\"4\" valign=\"top\">one</th>\n",
       "      <th>a</th>\n",
       "      <td>1</td>\n",
       "      <td>2</td>\n",
       "    </tr>\n",
       "    <tr>\n",
       "      <th>b</th>\n",
       "      <td>3</td>\n",
       "      <td>4</td>\n",
       "    </tr>\n",
       "    <tr>\n",
       "      <th>c</th>\n",
       "      <td>5</td>\n",
       "      <td>6</td>\n",
       "    </tr>\n",
       "    <tr>\n",
       "      <th>d</th>\n",
       "      <td>7</td>\n",
       "      <td>8</td>\n",
       "    </tr>\n",
       "    <tr>\n",
       "      <th rowspan=\"4\" valign=\"top\">two</th>\n",
       "      <th>a</th>\n",
       "      <td>9</td>\n",
       "      <td>10</td>\n",
       "    </tr>\n",
       "    <tr>\n",
       "      <th>b</th>\n",
       "      <td>11</td>\n",
       "      <td>12</td>\n",
       "    </tr>\n",
       "    <tr>\n",
       "      <th>c</th>\n",
       "      <td>13</td>\n",
       "      <td>14</td>\n",
       "    </tr>\n",
       "    <tr>\n",
       "      <th>d</th>\n",
       "      <td>15</td>\n",
       "      <td>16</td>\n",
       "    </tr>\n",
       "  </tbody>\n",
       "</table>\n",
       "</div>"
      ]
     },
     "output_type": "execute_result",
     "metadata": {}
    }
   ],
   "source": [
    "parsed = pd.read_csv('ex-pydatabook/ch06/csv_mindex.csv', index_col = ['key1','key2'])\n",
    "parsed"
   ]
  },
  {
   "cell_type": "code",
   "execution_count": 5,
   "metadata": {},
   "outputs": [],
   "source": [
    "#csv가 아니고 txt 같은 fixed delimiter가 없는 파일 및 데이터 형식에서는 공백,',',파이선 정규표현식을 이용\n",
    "#sep\n",
    "list(open('ex-pydatabook/ch06/ex3.txt')) #txt는 open 으로?\n",
    "#!cat ex-pydatabook/ch06/ex3.txt 와 비교했을때, 구분자를 확인하기 힘듬\n",
    "result = pd.read_table('ex-pydatabook/ch06/ex3.txt',sep='\\s+') # \\s+ --> 공백문자 처리"
   ]
  },
  {
   "cell_type": "markdown",
   "metadata": {},
   "source": [
    "####  # read_table과 read_csv의 차이점:\n",
    "- read_csv: 파일, URL 또는 파일과 유사한 객체로부터 구분된 데이터를 읽어옴. 데이터 구분자는 쉼표(,)를 기본으로 한다.\n",
    "- read_table: 파일, URL 또는 파일과 유사한 객체로부터 구분된 데이터를 읽어옴. 데이터 구분자는 탭('\\t')를 기본으로 한다.\n",
    "- 즉, 둘 다 사용을 해도 되지만 가급적 read_csv 같은 경우는 csv 파일만 사용을 하고 나머지 특별한 경우를 read_table로 활용"
   ]
  },
  {
   "cell_type": "markdown",
   "metadata": {},
   "source": [
    "#### # read_table/read_csv function arguments \n",
    "파서 함수는 파일 형식에서 발생할 수 있는 매우 다양한 예외를 잘 처리할 수 있도록 많은 추가 인자를 가지고 있음 (책 참조)\n",
    "\n",
    "주요 function arguments:\n",
    "- skiprows\n",
    "- na_values: 누락된 값이나 특정한 값들을 NaN으로 처리\n",
    "- nrows: 처음 몇줄만 읽음\n"
   ]
  },
  {
   "cell_type": "markdown",
   "metadata": {},
   "source": [
    "#### # Manually working with Delimited Formats\n",
    "\n",
    "malformed 데이터를 다뤄야 하는 상황이 적지 않기 때문에, 매뉴얼하게 데이터를 로딩해야 하는 경우들이 생김. 'read_table' 로 다루기 힘들 데이터들"
   ]
  },
  {
   "cell_type": "code",
   "execution_count": 6,
   "metadata": {},
   "outputs": [
    {
     "name": "stdout",
     "output_type": "stream",
     "text": [
      "\"a\",\"b\",\"c\"\r\n",
      "\"1\",\"2\",\"3\"\r\n",
      "\"1\",\"2\",\"3\",\"4\"\r\n"
     ]
    }
   ],
   "source": [
    "!cat ex-pydatabook/ch06/ex7.csv"
   ]
  },
  {
   "cell_type": "markdown",
   "metadata": {},
   "source": [
    "(나 솔직히 이 파트 요지를 모르겠음)"
   ]
  },
  {
   "cell_type": "code",
   "execution_count": 18,
   "metadata": {},
   "outputs": [
    {
     "name": "stdout",
     "output_type": "stream",
     "text": [
      "['a', 'b', 'c']\n",
      "['1', '2', '3']\n",
      "['1', '2', '3', '4']\n"
     ]
    }
   ],
   "source": [
    "import csv\n",
    "f = open('ex-pydatabook/ch06/ex7.csv')\n",
    "\n",
    "#csv.reader()\n",
    "#이를 통해 line iterating을 할 수 있음. 아래 두줄은 한 set와 같음\n",
    "reader = csv.reader(f) \n",
    "for line in reader:\n",
    "    print line"
   ]
  },
  {
   "cell_type": "code",
   "execution_count": 8,
   "metadata": {},
   "outputs": [
    {
     "data": {
      "text/plain": [
       "[['a', 'b', 'c'], ['1', '2', '3'], ['1', '2', '3', '4']]"
      ]
     },
     "execution_count": 8,
     "output_type": "execute_result",
     "metadata": {}
    }
   ],
   "source": [
    "#위에 과정을 아래처럼 한번에 요약가능\n",
    "lines = list(csv.reader(open('ex-pydatabook/ch06/ex7.csv')))\n",
    "lines"
   ]
  },
  {
   "cell_type": "code",
   "execution_count": 19,
   "metadata": {},
   "outputs": [
    {
     "name": "stdout",
     "output_type": "stream",
     "text": [
      "{'a': ('1', '1'), 'c': ('3', '3'), 'b': ('2', '2')}\n"
     ]
    }
   ],
   "source": [
    "header,values = lines[0],lines[1:] # decomposition\n",
    "data_dict = {h:v for h, v in zip(header, zip(*values))}\n",
    "print data_dict"
   ]
  },
  {
   "cell_type": "markdown",
   "metadata": {},
   "source": [
    "#### #CSV Note\n",
    "- 좀 더 복잡하거나 구분자가 한 글자를 초과하는 고정 길이를 가진다면 csv 모듈을 사용불가\n",
    "- 이경우 줄을 나누고 문자열의 split 메서드나 정규표현식 메서드인 re.split 등을 이용해서 가공하는 작업을 해야 함"
   ]
  },
  {
   "cell_type": "markdown",
   "metadata": {},
   "source": [
    "** # json 타입 처리 ** <br/>\n",
    "** # XML, HTML Web Scraping (웹 내용 긁어오기) **<br/>\n",
    "** # Interacting with HTML & Web APIs **<br/>\n",
    "** # Interacting with Database **<br/>\n",
    "상기 두 토픽관련내용은 책 참조"
   ]
  }
 ],
 "metadata": {
  "kernelspec": {
   "display_name": "Python 2",
   "language": "python",
   "name": "python2"
  },
  "language_info": {
   "codemirror_mode": {
    "name": "ipython",
    "version": 2.0
   },
   "file_extension": ".py",
   "mimetype": "text/x-python",
   "name": "python",
   "nbconvert_exporter": "python",
   "pygments_lexer": "ipython2",
   "version": "2.7.10"
  }
 },
 "nbformat": 4,
 "nbformat_minor": 0
}
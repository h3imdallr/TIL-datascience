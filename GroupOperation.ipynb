{
 "cells": [
  {
   "cell_type": "markdown",
   "metadata": {},
   "source": [
    "[1. Group by Machanics](#1.0)\n",
    "\n",
    "분석과정에서 데이터를 그룹화 각 그룹별의 집계/통계/변형 및 함수를 적용하는 것이 필수적.  \n",
    "관계형 데이터베이스와 SQL의 쿼리문은 그룹 연산에 제약   \n",
    "이에반해 파이썬의 Pandas를 통해 복잡한 그룹 연산이 가능 (groupby 방법 제공)\n",
    "\n",
    "\n",
    "** objectives: **\n",
    "- key (column 인덱스)를 이용해 pandas 객체를 나누는 방법\n",
    "- 그룹 요약통계 도출\n",
    "- Dataframe/Series등의 요소에 다양한 함수를 적용\n",
    "- 집단내 정규화, 선형 회귀, 등급, 부분집합 선택 같은 Transformation 적용\n",
    "- 피벗 테이블 pivot table과 교차일람표cross tabulatoin 구하는 법\n",
    "- 변위치 분석quantile analysis과 다른 데이터 파생 집단 분석 data-driven group analysis\n",
    "\n",
    "\n",
    "\n",
    "# <a name=\"1.0\"></a> 1. Group by Machanics\n",
    "\n",
    "\n",
    "** # Group Operation: split - apply - combine **  \n",
    "  \n",
    "\n",
    "- split: 데이터를 row 또는 column 색인 기준으로 분리  \n",
    "- apply: 분리된 그룹에 함수값을 적용해서 새로운 테이블\n",
    "- combine: 적용된 결과를 하나의 DF나 series로 결합   \n",
    "\n",
    "\n",
    "그룹연산 프로세스 요약\n",
    "![splitapplycombine](images/splitcombine.png )\n"
   ]
  },
  {
   "cell_type": "markdown",
   "metadata": {},
   "source": [
    "** #Groupby 를 통한 그룹연산: **  \n",
    "example: 데이터를 그룹화 하고 해당그룹의 평균 도출 \n",
    "> \n",
    "```css\n",
    "df['데이터를 지칭하는 컬럼 색인'].groupby( df['색인정보를 가지고 있는 컬럼 색인']).그룹연산()\n",
    "```\n",
    ">  "
   ]
  },
  {
   "cell_type": "code",
   "execution_count": 2,
   "metadata": {
    "collapsed": false
   },
   "outputs": [
    {
     "data": {
      "text/html": [
       "<div>\n",
       "<table border=\"1\" class=\"dataframe\">\n",
       "  <thead>\n",
       "    <tr style=\"text-align: right;\">\n",
       "      <th></th>\n",
       "      <th>data1</th>\n",
       "      <th>data2</th>\n",
       "      <th>key1</th>\n",
       "      <th>key2</th>\n",
       "    </tr>\n",
       "  </thead>\n",
       "  <tbody>\n",
       "    <tr>\n",
       "      <th>0</th>\n",
       "      <td>0.753501</td>\n",
       "      <td>-0.935001</td>\n",
       "      <td>a</td>\n",
       "      <td>one</td>\n",
       "    </tr>\n",
       "    <tr>\n",
       "      <th>1</th>\n",
       "      <td>0.526080</td>\n",
       "      <td>0.577424</td>\n",
       "      <td>a</td>\n",
       "      <td>two</td>\n",
       "    </tr>\n",
       "    <tr>\n",
       "      <th>2</th>\n",
       "      <td>0.720953</td>\n",
       "      <td>1.246956</td>\n",
       "      <td>b</td>\n",
       "      <td>one</td>\n",
       "    </tr>\n",
       "    <tr>\n",
       "      <th>3</th>\n",
       "      <td>-0.367906</td>\n",
       "      <td>0.026227</td>\n",
       "      <td>b</td>\n",
       "      <td>two</td>\n",
       "    </tr>\n",
       "    <tr>\n",
       "      <th>4</th>\n",
       "      <td>0.080767</td>\n",
       "      <td>0.006990</td>\n",
       "      <td>a</td>\n",
       "      <td>one</td>\n",
       "    </tr>\n",
       "  </tbody>\n",
       "</table>\n",
       "</div>"
      ],
      "text/plain": [
       "      data1     data2 key1 key2\n",
       "0  0.753501 -0.935001    a  one\n",
       "1  0.526080  0.577424    a  two\n",
       "2  0.720953  1.246956    b  one\n",
       "3 -0.367906  0.026227    b  two\n",
       "4  0.080767  0.006990    a  one"
      ]
     },
     "execution_count": 2,
     "metadata": {},
     "output_type": "execute_result"
    }
   ],
   "source": [
    "import pandas as pd\n",
    "import numpy as np\n",
    "from pandas import DataFrame, Series\n",
    "\n",
    "df = DataFrame({'key1' : ['a', 'a', 'b', 'b', 'a'],\n",
    "                'key2' : ['one', 'two', 'one', 'two', 'one'],\n",
    "                'data1' : np.random.randn(5),\n",
    "                'data2' : np.random.randn(5)})\n",
    "df"
   ]
  },
  {
   "cell_type": "markdown",
   "metadata": {},
   "source": [
    "groupby로 아래의 grouped변수는 GroupBy 오브젝트가 되었음. 이 객체는 `df['key1']`에 관한 중간산출물(intermediate data)일뿐, 무엇을 계산한 상태는 아님. 그러나 그룹 오퍼레이션을 적용하기 위한 모든 정보를 가지고 있음. "
   ]
  },
  {
   "cell_type": "code",
   "execution_count": 8,
   "metadata": {
    "collapsed": false
   },
   "outputs": [
    {
     "data": {
      "text/plain": [
       "<pandas.core.groupby.SeriesGroupBy object at 0x111158f10>"
      ]
     },
     "execution_count": 8,
     "metadata": {},
     "output_type": "execute_result"
    }
   ],
   "source": [
    "# groupby 객체 생성\n",
    "grouped = df['data1'].groupby(df['key1'])\n",
    "grouped"
   ]
  },
  {
   "cell_type": "markdown",
   "metadata": {},
   "source": [
    "아래와 같은 그룹 연산을 하면, 그룹색인인 key에 따라 series 개체가 생성됨"
   ]
  },
  {
   "cell_type": "code",
   "execution_count": 7,
   "metadata": {
    "collapsed": false
   },
   "outputs": [
    {
     "data": {
      "text/plain": [
       "key1\n",
       "a    0.453449\n",
       "b    0.176523\n",
       "Name: data1, dtype: float64"
      ]
     },
     "execution_count": 7,
     "metadata": {},
     "output_type": "execute_result"
    }
   ],
   "source": [
    "# group 연산 예\n",
    "grouped.mean()"
   ]
  },
  {
   "cell_type": "markdown",
   "metadata": {},
   "source": [
    "아래 경우는 데이터가 2개의 색인으로 묵여서, 계층적 색인"
   ]
  },
  {
   "cell_type": "code",
   "execution_count": 10,
   "metadata": {
    "collapsed": false
   },
   "outputs": [
    {
     "data": {
      "text/plain": [
       "key1  key2\n",
       "a     one     0.417134\n",
       "      two     0.526080\n",
       "b     one     0.720953\n",
       "      two    -0.367906\n",
       "Name: data1, dtype: float64"
      ]
     },
     "execution_count": 10,
     "metadata": {},
     "output_type": "execute_result"
    }
   ],
   "source": [
    "df['data1'].groupby( [df['key1'],df['key2']] ).mean()"
   ]
  },
  {
   "cell_type": "code",
   "execution_count": 11,
   "metadata": {
    "collapsed": false
   },
   "outputs": [
    {
     "data": {
      "text/plain": [
       "key1  key2\n",
       "a     one     2\n",
       "      two     1\n",
       "b     one     1\n",
       "      two     1\n",
       "dtype: int64"
      ]
     },
     "execution_count": 11,
     "metadata": {},
     "output_type": "execute_result"
    }
   ],
   "source": [
    "df.groupby(['key1','key2']).size()"
   ]
  },
  {
   "cell_type": "markdown",
   "metadata": {},
   "source": [
    "\n",
    "## <a name=\"1.1\"></a> 1.1 Selecting a Columns or Subset of Columns\n"
   ]
  },
  {
   "cell_type": "code",
   "execution_count": null,
   "metadata": {
    "collapsed": true
   },
   "outputs": [],
   "source": []
  }
 ],
 "metadata": {
  "kernelspec": {
   "display_name": "Python 2",
   "language": "python",
   "name": "python2"
  },
  "language_info": {
   "codemirror_mode": {
    "name": "ipython",
    "version": 2
   },
   "file_extension": ".py",
   "mimetype": "text/x-python",
   "name": "python",
   "nbconvert_exporter": "python",
   "pygments_lexer": "ipython2",
   "version": "2.7.11"
  }
 },
 "nbformat": 4,
 "nbformat_minor": 0
}
